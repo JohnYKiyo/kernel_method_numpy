{
 "cells": [
  {
   "cell_type": "code",
   "execution_count": 46,
   "metadata": {},
   "outputs": [],
   "source": [
    "from src import kernel\n",
    "\n",
    "import numpy as np\n",
    "import seaborn as sns\n",
    "import pandas as pd\n",
    "import matplotlib.pyplot as plt"
   ]
  },
  {
   "cell_type": "code",
   "execution_count": 55,
   "metadata": {},
   "outputs": [],
   "source": [
    "def f(x):\n",
    "    return -x+x**3\n",
    "\n",
    "def Sim(x,a,b):\n",
    "    return b+a*x"
   ]
  },
  {
   "cell_type": "code",
   "execution_count": 102,
   "metadata": {},
   "outputs": [],
   "source": [
    "x = np.linspace(-2,2,50)\n",
    "y_obs = pd.DataFrame(f(x),columns=['y'])\n",
    "theta = np.random.multivariate_normal([0,0],[[1,0],[0,1]],100)\n",
    "y_sim = pd.DataFrame()\n",
    "for a,b in theta:\n",
    "    y_sim = pd.concat([y_sim,pd.DataFrame(np.c_[Sim(x,a,b),[a]*50,[b]*50], columns=['y','a','b'])])"
   ]
  },
  {
   "cell_type": "code",
   "execution_count": 110,
   "metadata": {},
   "outputs": [],
   "source": [
    "Dataset = kernel.utils.ABCDataSet(observed_samples=y_obs, prior_samples=y_sim, parameter_keys=['a','b'], data_key=['y'])"
   ]
  },
  {
   "cell_type": "code",
   "execution_count": 115,
   "metadata": {},
   "outputs": [],
   "source": [
    "bw_para = kernel.utils.functions.band_width(Dataset.parameters,method='scott')\n",
    "bw_y = kernel.utils.functions.band_width(Dataset.prior_data, method='scott')"
   ]
  },
  {
   "cell_type": "code",
   "execution_count": 117,
   "metadata": {},
   "outputs": [],
   "source": [
    "ABC = kernel.ABC(Dataset=Dataset,cov_para=bw_para(),cov_y=bw_y())"
   ]
  },
  {
   "cell_type": "code",
   "execution_count": 130,
   "metadata": {},
   "outputs": [],
   "source": [
    "y_post = Sim(x,**ABC.posterior_mean().loc['mean'])"
   ]
  },
  {
   "cell_type": "code",
   "execution_count": 133,
   "metadata": {},
   "outputs": [
    {
     "data": {
      "text/plain": [
       "[<matplotlib.lines.Line2D at 0x7f2c8e00e6d0>]"
      ]
     },
     "execution_count": 133,
     "metadata": {},
     "output_type": "execute_result"
    },
    {
     "data": {
      "image/png": "[encoded data removed]",
      "text/plain": [
       "<Figure size 432x288 with 1 Axes>"
      ]
     },
     "metadata": {
      "needs_background": "light"
     },
     "output_type": "display_data"
    }
   ],
   "source": [
    "plt.plot(x,y_post,'o')\n",
    "plt.plot(x,y_obs,'o')"
   ]
  },
  {
   "cell_type": "markdown",
   "metadata": {},
   "source": [
    "オレンジの点群y_obsが複数観測された場合のposteriorはどう計算する?\n",
    "今までは、1発だけwを計算していたが、例えば、オレンジの点群y_obs1とy_obs2が観測された場合の更新則は,    \n",
    "重み付きwのkernel mean サンプルを使って"
   ]
  },
  {
   "cell_type": "markdown",
   "metadata": {},
   "source": [
    "p(y|x=x_1)の計算"
   ]
  }
 ],
 "metadata": {
  "kernelspec": {
   "display_name": "Python 3",
   "language": "python",
   "name": "python3"
  },
  "language_info": {
   "codemirror_mode": {
    "name": "ipython",
    "version": 3
   },
   "file_extension": ".py",
   "mimetype": "text/x-python",
   "name": "python",
   "nbconvert_exporter": "python",
   "pygments_lexer": "ipython3",
   "version": "3.7.5"
  }
 },
 "nbformat": 4,
 "nbformat_minor": 4
}
